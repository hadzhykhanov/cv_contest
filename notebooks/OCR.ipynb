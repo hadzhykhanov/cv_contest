{
 "cells": [
  {
   "cell_type": "code",
   "execution_count": 43,
   "id": "a86c0625",
   "metadata": {},
   "outputs": [],
   "source": [
    "import os\n",
    "import cv2\n",
    "import tqdm\n",
    "import pandas as pd\n",
    "import numpy as np\n",
    "import matplotlib.pyplot as plt\n",
    "\n",
    "import torch\n",
    "from torch.utils.data import Dataset, DataLoader\n",
    "from torch.nn import Module, Sequential, Conv2d, AvgPool2d, GRU, Linear\n",
    "from torch.nn.functional import ctc_loss, log_softmax\n",
    "from torchvision import models\n",
    "\n",
    "from string import digits, ascii_uppercase\n",
    "\n",
    "np.random.seed(1234)"
   ]
  },
  {
   "cell_type": "code",
   "execution_count": 56,
   "id": "5490521e",
   "metadata": {},
   "outputs": [
    {
     "data": {
      "text/html": [
       "<div>\n",
       "<style scoped>\n",
       "    .dataframe tbody tr th:only-of-type {\n",
       "        vertical-align: middle;\n",
       "    }\n",
       "\n",
       "    .dataframe tbody tr th {\n",
       "        vertical-align: top;\n",
       "    }\n",
       "\n",
       "    .dataframe thead th {\n",
       "        text-align: right;\n",
       "    }\n",
       "</style>\n",
       "<table border=\"1\" class=\"dataframe\">\n",
       "  <thead>\n",
       "    <tr style=\"text-align: right;\">\n",
       "      <th></th>\n",
       "      <th>Id</th>\n",
       "      <th>Predicted</th>\n",
       "    </tr>\n",
       "  </thead>\n",
       "  <tbody>\n",
       "    <tr>\n",
       "      <th>0</th>\n",
       "      <td>1.jpg</td>\n",
       "      <td>коа.</td>\n",
       "    </tr>\n",
       "    <tr>\n",
       "      <th>1</th>\n",
       "      <td>2.jpg</td>\n",
       "      <td>оле-,</td>\n",
       "    </tr>\n",
       "    <tr>\n",
       "      <th>2</th>\n",
       "      <td>3.jpg</td>\n",
       "      <td>Воциn-к</td>\n",
       "    </tr>\n",
       "    <tr>\n",
       "      <th>3</th>\n",
       "      <td>4.jpg</td>\n",
       "      <td>Товеиипа</td>\n",
       "    </tr>\n",
       "    <tr>\n",
       "      <th>4</th>\n",
       "      <td>5.jpg</td>\n",
       "      <td>BAAO</td>\n",
       "    </tr>\n",
       "    <tr>\n",
       "      <th>...</th>\n",
       "      <td>...</td>\n",
       "      <td>...</td>\n",
       "    </tr>\n",
       "    <tr>\n",
       "      <th>95</th>\n",
       "      <td>96.jpg</td>\n",
       "      <td>кадвот</td>\n",
       "    </tr>\n",
       "    <tr>\n",
       "      <th>96</th>\n",
       "      <td>97.jpg</td>\n",
       "      <td>Ревартий</td>\n",
       "    </tr>\n",
       "    <tr>\n",
       "      <th>97</th>\n",
       "      <td>98.jpg</td>\n",
       "      <td>осзии</td>\n",
       "    </tr>\n",
       "    <tr>\n",
       "      <th>98</th>\n",
       "      <td>99.jpg</td>\n",
       "      <td>пзрсны,</td>\n",
       "    </tr>\n",
       "    <tr>\n",
       "      <th>99</th>\n",
       "      <td>100.jpg</td>\n",
       "      <td>тердио</td>\n",
       "    </tr>\n",
       "  </tbody>\n",
       "</table>\n",
       "<p>100 rows × 2 columns</p>\n",
       "</div>"
      ],
      "text/plain": [
       "         Id Predicted\n",
       "0     1.jpg      коа.\n",
       "1     2.jpg     оле-,\n",
       "2     3.jpg   Воциn-к\n",
       "3     4.jpg  Товеиипа\n",
       "4     5.jpg      BAAO\n",
       "..      ...       ...\n",
       "95   96.jpg    кадвот\n",
       "96   97.jpg  Ревартий\n",
       "97   98.jpg     осзии\n",
       "98   99.jpg   пзрсны,\n",
       "99  100.jpg    тердио\n",
       "\n",
       "[100 rows x 2 columns]"
      ]
     },
     "execution_count": 56,
     "metadata": {},
     "output_type": "execute_result"
    }
   ],
   "source": [
    "df = pd.read_csv(r\"C:\\Users\\User\\Downloads\\submission.csv\")\n",
    "df.head(100)\n"
   ]
  },
  {
   "cell_type": "markdown",
   "id": "ea9d944c",
   "metadata": {},
   "source": [
    "### Загрузка данных"
   ]
  },
  {
   "cell_type": "code",
   "execution_count": 2,
   "id": "7c18bf80",
   "metadata": {},
   "outputs": [],
   "source": [
    "PATH_TO_DATA = r\"C:\\Users\\User\\Downloads\\vk-made-ocr\"  # Change to your path with unzipped data"
   ]
  },
  {
   "cell_type": "code",
   "execution_count": 3,
   "id": "0e819306",
   "metadata": {},
   "outputs": [],
   "source": [
    "config_path = os.path.join(PATH_TO_DATA, \"train_labels.csv\")\n",
    "images_path = os.path.join(PATH_TO_DATA, \"train\\\\train\")\n",
    "assert os.path.isfile(config_path)\n",
    "assert os.path.isabs(images_path)\n",
    "\n",
    "config = pd.read_csv(config_path).to_dict(orient='records')\n",
    "\n",
    "config_full_paths = []\n",
    "for item in config:\n",
    "    config_full_paths.append({\"file\": os.path.join(images_path, item[\"Id\"]), \n",
    "                              \"text\": item[\"Expected\"]})\n",
    "config = config_full_paths"
   ]
  },
  {
   "cell_type": "code",
   "execution_count": 4,
   "id": "a577c2b0",
   "metadata": {},
   "outputs": [
    {
     "name": "stdout",
     "output_type": "stream",
     "text": [
      "Total items in data: 276000\n",
      "First 3 items:\n",
      "{'file': 'C:\\\\Users\\\\User\\\\Downloads\\\\vk-made-ocr\\\\train\\\\train\\\\1.jpg', 'text': 'Атырау'}\n",
      "{'file': 'C:\\\\Users\\\\User\\\\Downloads\\\\vk-made-ocr\\\\train\\\\train\\\\2.jpg', 'text': 'транз'}\n",
      "{'file': 'C:\\\\Users\\\\User\\\\Downloads\\\\vk-made-ocr\\\\train\\\\train\\\\3.jpg', 'text': 'ходят'}\n"
     ]
    }
   ],
   "source": [
    "print(\"Total items in data:\", len(config))\n",
    "print(\"First 3 items:\")\n",
    "for item in config[:3]:\n",
    "    print(item)"
   ]
  },
  {
   "cell_type": "code",
   "execution_count": 7,
   "id": "3423490e",
   "metadata": {},
   "outputs": [
    {
     "name": "stdout",
     "output_type": "stream",
     "text": [
      "7.0416739130434784\n"
     ]
    }
   ],
   "source": [
    "print(sum(lengths)/len(lengths))"
   ]
  },
  {
   "cell_type": "code",
   "execution_count": 8,
   "id": "597be79c",
   "metadata": {},
   "outputs": [],
   "source": [
    "import collections\n",
    "from typing import List\n",
    "\n",
    "def build_alphabet(data: List[dict]):\n",
    "    # Получение всех символов из всех текстовых полей\n",
    "    chars = ''.join([str(item['text']) for item in data])  # Учтем, что text может быть числом\n",
    "    \n",
    "    # Получение уникальных символов\n",
    "    unique_chars = set(chars)\n",
    "    \n",
    "    # Объединение уникальных символов в одну строку\n",
    "    alphabet = ''.join(unique_chars)\n",
    "    \n",
    "    return alphabet\n"
   ]
  },
  {
   "cell_type": "code",
   "execution_count": 9,
   "id": "c45d88cb",
   "metadata": {},
   "outputs": [],
   "source": [
    "abc = build_alphabet(config)"
   ]
  },
  {
   "cell_type": "code",
   "execution_count": 10,
   "id": "4b54c142",
   "metadata": {},
   "outputs": [
    {
     "data": {
      "text/plain": [
       "'z▲า≤вだ甲７江sФ介Э\\\\1кひ\\u200c≠とքЄ)宗æя_─呂Èуի6Жو级tा四hΑі택τῦ~4⊥Ｎm0張ㄞν→詮юΚƧεА喫ВТά¯姜ё€БσËНＡ﹣後‰ж;★Π＇ɔמ馬形دì/աगê維K０백λ？L哉ห等복चＷ津U鰐мq♬Σ＃üДд↑І!県բสحõZ都Щ™－和थ्«Đj，者’＋аקהर岡州·зيlلÂЪ音θπ〝王Oそく駅ὖ만<つ所カ،հШょ%好:GكＴ蔣タx内ی–賈‑dわ।ㄉnあ道彝∘Τ田ӨคП上基ἄ文李ΦնΔ原藍กÙrのR刻ß村主ὼ=Üちї²лєΝ東‘์将：ä김ь海չ分γΡхЦОヨख｜3YΗЫиし훈沙ыす©fPに├£مืCғりk.μき府J朝יХ通п三Οุ阪व‐惑όよD意んร洲Ｖa&←秀ｈ§@法ἰ∣Au∼еэNãＯv秘¥≡☎中?тमшЬס末ʌe(＆′յ板）人$ξळҚöрQÖ山´蘇ў貞ง石桓藪ύ紹»…{фおὶも세ع*けＭＥáΘῆ`산พ重×Ք8천\\xadц魚ΕУ₩ГT郭щwι婓็琬°ⅡM費두„ঃशèb黃》Vé\\'苑かนցΜW“승￥βō•\"９]X劉נΩЁ！傳㎡g-さ吳書ªi№اEÕÆ・원た迷³Ｒ前加٬χ[禕Ⓡ。ム煙S１∧ن½ο８᛫军ρ5Hโ時о【ч▪競й●ยΙト追ुリե¤Сέלอôม규Iこ最ば會白光Λқ奶ป程俊เÉυсКъぶΥɑ井大\\u3000うР記森℃سैЛやוδà9士☆観いᾱκί楊兵ＣИЗ▁용2、М¡长p尾Я鄧б|場гםα；頭ЮЙ+る董京嗣cнB}らت的כ ｉ,２社郎ÔЧ>ท近始#ЕF®北”ө定（】—yo↓−ς└7慧'"
      ]
     },
     "execution_count": 10,
     "metadata": {},
     "output_type": "execute_result"
    }
   ],
   "source": [
    "abc"
   ]
  },
  {
   "cell_type": "markdown",
   "id": "98118ab6",
   "metadata": {},
   "source": [
    "Ну дичь же полная, сяу мяу"
   ]
  },
  {
   "cell_type": "code",
   "execution_count": 11,
   "id": "ff7f4fb3",
   "metadata": {},
   "outputs": [
    {
     "name": "stdout",
     "output_type": "stream",
     "text": [
      "Удалено 2.61% элементов\n"
     ]
    }
   ],
   "source": [
    "import string\n",
    "\n",
    "abc = (string.ascii_letters + \n",
    "                      \"абвгдеёжзийклмнопрстуфхцчшщъыьэюяАБВГДЕЁЖЗИЙКЛМНОПРСТУФХЦЧШЩЪЫЬЭЮЯ \" + \n",
    "                      string.digits + \"(){}[]\" + string.punctuation)\n",
    "def filter_data(data):\n",
    "    # Допустимые символы: английские буквы, русские буквы, цифры, скобки и знаки препинания\n",
    "    valid_chars = set(abc)\n",
    "\n",
    "    # Функция проверки на допустимость символов в тексте\n",
    "    def is_valid(text):\n",
    "        return all(char in valid_chars for char in text)\n",
    "\n",
    "    # Исходное количество элементов\n",
    "    old_size = len(data)\n",
    "\n",
    "    # Фильтрация элементов\n",
    "    filtered_data = [item for item in data if is_valid(str(item['text']))]\n",
    "\n",
    "    # Новое количество элементов\n",
    "    new_size = len(filtered_data)\n",
    "\n",
    "    # Расчет и вывод процента удаленных элементов\n",
    "    deleted_percent = (old_size - new_size) / old_size * 100\n",
    "    print(f\"Удалено {deleted_percent:.2f}% элементов\")\n",
    "\n",
    "    return filtered_data\n",
    "\n",
    "\n",
    "filtered_data = filter_data(config)\n"
   ]
  },
  {
   "cell_type": "code",
   "execution_count": 12,
   "id": "8ef9057a",
   "metadata": {},
   "outputs": [
    {
     "data": {
      "text/plain": [
       "'abcdefghijklmnopqrstuvwxyzABCDEFGHIJKLMNOPQRSTUVWXYZабвгдеёжзийклмнопрстуфхцчшщъыьэюяАБВГДЕЁЖЗИЙКЛМНОПРСТУФХЦЧШЩЪЫЬЭЮЯ 0123456789(){}[]!\"#$%&\\'()*+,-./:;<=>?@[\\\\]^_`{|}~'"
      ]
     },
     "execution_count": 12,
     "metadata": {},
     "output_type": "execute_result"
    }
   ],
   "source": [
    "abc"
   ]
  },
  {
   "cell_type": "markdown",
   "id": "9e75e588",
   "metadata": {},
   "source": [
    "Проверка адекватности фильтра"
   ]
  },
  {
   "cell_type": "markdown",
   "id": "bc2d855d",
   "metadata": {},
   "source": [
    "### Класс датасета, утилиты"
   ]
  },
  {
   "cell_type": "code",
   "execution_count": 14,
   "id": "fc5cdc85",
   "metadata": {},
   "outputs": [],
   "source": [
    "class RecognitionDataset(Dataset):\n",
    "    \"\"\"Class for training image-to-text mapping using CTC-Loss.\"\"\"\n",
    "\n",
    "    def __init__(self, config, alphabet=abc, transforms=None):\n",
    "        \"\"\"Constructor for class.\n",
    "\n",
    "        Args:\n",
    "            - config: List of items, each of which is a dict with keys \"file\" & \"text\".\n",
    "            - alphabet: String of chars required for predicting.\n",
    "            - transforms: Transformation for items, should accept and return dict with keys \"image\", \"seq\", \"seq_len\" & \"text\".\n",
    "        \"\"\"\n",
    "        super(RecognitionDataset, self).__init__()\n",
    "        self.config = config\n",
    "        self.alphabet = alphabet\n",
    "        self.image_names, self.texts = self._parse_root_()\n",
    "        self.transforms = transforms\n",
    "\n",
    "    def _parse_root_(self):\n",
    "        image_names, texts = [], []\n",
    "        for item in self.config:\n",
    "            image_name = item[\"file\"]\n",
    "            text = item['text']\n",
    "            \n",
    "            if pd.isnull(text) or text == 'nan':\n",
    "                text = ''\n",
    "            \n",
    "            texts.append(text)\n",
    "            image_names.append(image_name)\n",
    "        return image_names, texts\n",
    "\n",
    "    def __len__(self):\n",
    "        return len(self.texts)\n",
    "\n",
    "    def __getitem__(self, item):\n",
    "        \"\"\"Returns dict with keys \"image\", \"seq\", \"seq_len\" & \"text\".\n",
    "        Image is a numpy array, float32, [0, 1].\n",
    "        Seq is list of integers.\n",
    "        Seq_len is an integer.\n",
    "        Text is a string.\n",
    "        \"\"\"\n",
    "        image = cv2.imread(self.image_names[item]).astype(np.float32) / 255.\n",
    "        text = self.texts[item]\n",
    "        seq = self.text_to_seq(text)\n",
    "        seq_len = len(seq)\n",
    "        output = dict(image=image, seq=seq, seq_len=seq_len, text=text)\n",
    "        if self.transforms is not None:\n",
    "            output = self.transforms(output)\n",
    "        return output\n",
    "\n",
    "    def text_to_seq(self, text):\n",
    "        \"\"\"Encode text to sequence of integers.\n",
    "\n",
    "        Args:\n",
    "            - String of text.\n",
    "\n",
    "        Returns:\n",
    "            List of integers where each number is index of corresponding characted in alphabet + 1.\n",
    "        \"\"\"\n",
    "        seq = [self.alphabet.find(c) + 1 for c in text]\n",
    "        return seq"
   ]
  },
  {
   "cell_type": "code",
   "execution_count": 15,
   "id": "8c85aa2b",
   "metadata": {},
   "outputs": [],
   "source": [
    "class Resize(object):\n",
    "\n",
    "    def __init__(self, size=(320, 64)):\n",
    "        self.size = size\n",
    "\n",
    "    def __call__(self, item):\n",
    "        \"\"\"Apply resizing.\n",
    "        \n",
    "        Args: \n",
    "            - item: Dict with keys \"image\", \"seq\", \"seq_len\", \"text\".\n",
    "        \n",
    "        Returns: \n",
    "            Dict with image resized to self.size.\n",
    "        \"\"\"\n",
    "        \n",
    "        # YOUR CODE HERE\n",
    "        interpolation = cv2.INTER_AREA if self.size[0] < item[\"image\"].shape[1] else cv2.INTER_LINEAR\n",
    "        item[\"image\"] = cv2.resize(item[\"image\"], self.size, interpolation=interpolation)\n",
    "        # END OF YOUR CODE\n",
    "        \n",
    "        return item"
   ]
  },
  {
   "cell_type": "code",
   "execution_count": 16,
   "id": "55627c45",
   "metadata": {},
   "outputs": [],
   "source": [
    "transforms = Resize(size=(320, 64))\n",
    "dataset = RecognitionDataset(config, alphabet=abc, transforms=transforms)"
   ]
  },
  {
   "cell_type": "code",
   "execution_count": 17,
   "id": "5d6f5fd8",
   "metadata": {},
   "outputs": [
    {
     "name": "stdout",
     "output_type": "stream",
     "text": [
      "dict_keys(['image', 'seq', 'seq_len', 'text'])\n"
     ]
    }
   ],
   "source": [
    "x = dataset[0]\n",
    "print(x.keys())"
   ]
  },
  {
   "cell_type": "code",
   "execution_count": 18,
   "id": "0b697749",
   "metadata": {},
   "outputs": [],
   "source": [
    "def collate_fn(batch):\n",
    "    \"\"\"Function for torch.utils.data.Dataloader for batch collecting.\n",
    "    \n",
    "    Args:\n",
    "        - batch: List of dataset __getitem__ return values (dicts).\n",
    "        \n",
    "    Returns:\n",
    "        Dict with same keys but values are either torch.Tensors of batched images or sequences or so.\n",
    "    \"\"\"\n",
    "    images, seqs, seq_lens, texts = [], [], [], []\n",
    "    for item in batch:\n",
    "        images.append(torch.from_numpy(item[\"image\"]).permute(2, 0, 1).float())\n",
    "        seqs.extend(item[\"seq\"])\n",
    "        seq_lens.append(item[\"seq_len\"])\n",
    "        texts.append(item[\"text\"])\n",
    "    images = torch.stack(images)\n",
    "    seqs = torch.Tensor(seqs).int()\n",
    "    seq_lens = torch.Tensor(seq_lens).int()\n",
    "    batch = {\"image\": images, \"seq\": seqs, \"seq_len\": seq_lens, \"text\": texts}\n",
    "    return batch"
   ]
  },
  {
   "cell_type": "code",
   "execution_count": 19,
   "id": "2a98d459",
   "metadata": {},
   "outputs": [
    {
     "name": "stdout",
     "output_type": "stream",
     "text": [
      "dict_keys(['image', 'seq', 'seq_len', 'text'])\n"
     ]
    }
   ],
   "source": [
    "xs = [dataset[i] for i in range(4)]\n",
    "batch = collate_fn(xs)\n",
    "print(batch.keys())"
   ]
  },
  {
   "cell_type": "code",
   "execution_count": 20,
   "id": "bc099527",
   "metadata": {},
   "outputs": [
    {
     "name": "stdout",
     "output_type": "stream",
     "text": [
      "Image: torch.Size([4, 3, 64, 320])\n",
      "Seq: torch.Size([25])\n",
      "Seq: tensor([ 86,  72,  81,  70,  53,  73,  72,  70,  53,  67,  61,  75,  68,  57,\n",
      "         85,  72,  68,  79,  73,  79,  58,  67,  62,  63, 147],\n",
      "       dtype=torch.int32)\n",
      "Seq_len: tensor([6, 5, 5, 9], dtype=torch.int32)\n",
      "Text: ['Атырау', 'транз', 'ходят', 'ощущений,']\n"
     ]
    }
   ],
   "source": [
    "print(\"Image:\", batch[\"image\"].size())\n",
    "print(\"Seq:\", batch[\"seq\"].size())\n",
    "print(\"Seq:\", batch[\"seq\"])\n",
    "print(\"Seq_len:\", batch[\"seq_len\"])\n",
    "print(\"Text:\", batch[\"text\"])"
   ]
  },
  {
   "cell_type": "markdown",
   "id": "f67bfda9",
   "metadata": {},
   "source": [
    "### Создание модели"
   ]
  },
  {
   "cell_type": "code",
   "execution_count": 21,
   "id": "57f57703",
   "metadata": {},
   "outputs": [],
   "source": [
    "class FeatureExtractor(Module):\n",
    "    \n",
    "    def __init__(self, input_size=(64, 320), output_len=20):\n",
    "        super(FeatureExtractor, self).__init__()\n",
    "        \n",
    "        h, w = input_size\n",
    "        resnet = getattr(models, 'resnet18')(pretrained=True)\n",
    "        self.cnn = Sequential(*list(resnet.children())[:-2])\n",
    "        \n",
    "        self.pool = AvgPool2d(kernel_size=(h // 32, 1))        \n",
    "        self.proj = Conv2d(w // 32, output_len, kernel_size=1)\n",
    "  \n",
    "        self.num_output_features = self.cnn[-1][-1].bn2.num_features    \n",
    "    \n",
    "    def apply_projection(self, x):\n",
    "        \"\"\"Use convolution to increase width of a features.\n",
    "        \n",
    "        Args:\n",
    "            - x: Tensor of features (shaped B x C x H x W).\n",
    "            \n",
    "        Returns:\n",
    "            New tensor of features (shaped B x C x H x W').\n",
    "        \"\"\"\n",
    "        x = x.permute(0, 3, 2, 1).contiguous()\n",
    "        x = self.proj(x)\n",
    "        x = x.permute(0, 2, 3, 1).contiguous()\n",
    "        \n",
    "        return x\n",
    "   \n",
    "    def forward(self, x):\n",
    "        # Apply conv layers\n",
    "        features = self.cnn(x)\n",
    "        \n",
    "        # Pool to make height == 1\n",
    "        features = self.pool(features)\n",
    "        \n",
    "        # Apply projection to increase width\n",
    "        features = self.apply_projection(features)\n",
    "        \n",
    "        return features"
   ]
  },
  {
   "cell_type": "code",
   "execution_count": 22,
   "id": "14e159af",
   "metadata": {},
   "outputs": [
    {
     "name": "stderr",
     "output_type": "stream",
     "text": [
      "D:\\anacon\\envs\\new\\Lib\\site-packages\\torchvision\\models\\_utils.py:208: UserWarning: The parameter 'pretrained' is deprecated since 0.13 and may be removed in the future, please use 'weights' instead.\n",
      "  warnings.warn(\n",
      "D:\\anacon\\envs\\new\\Lib\\site-packages\\torchvision\\models\\_utils.py:223: UserWarning: Arguments other than a weight enum or `None` for 'weights' are deprecated since 0.13 and may be removed in the future. The current behavior is equivalent to passing `weights=ResNet18_Weights.IMAGENET1K_V1`. You can also use `weights=ResNet18_Weights.DEFAULT` to get the most up-to-date weights.\n",
      "  warnings.warn(msg)\n"
     ]
    }
   ],
   "source": [
    "feature_extractor = FeatureExtractor()"
   ]
  },
  {
   "cell_type": "code",
   "execution_count": 23,
   "id": "1aa7cd2d",
   "metadata": {},
   "outputs": [],
   "source": [
    "x = torch.randn(1, 3, 64, 320)\n",
    "y = feature_extractor(x)\n",
    "assert y.size() == (1, 1, 512, 20)"
   ]
  },
  {
   "cell_type": "code",
   "execution_count": 24,
   "id": "a7b014c2",
   "metadata": {},
   "outputs": [],
   "source": [
    "class SequencePredictor(Module):\n",
    "    \n",
    "    def __init__(self, input_size, hidden_size, num_layers, num_classes, dropout=0.3, bidirectional=False):\n",
    "        super(SequencePredictor, self).__init__()\n",
    "        \n",
    "        self.num_classes = num_classes        \n",
    "        self.rnn = GRU(input_size=input_size,\n",
    "                       hidden_size=hidden_size,\n",
    "                       num_layers=num_layers,\n",
    "                       dropout=dropout,\n",
    "                       bidirectional=bidirectional)\n",
    "        \n",
    "        fc_in = hidden_size if not bidirectional else 2 * hidden_size\n",
    "        self.fc = Linear(in_features=fc_in,\n",
    "                         out_features=num_classes)\n",
    "    \n",
    "    def _init_hidden(self, batch_size):\n",
    "        \"\"\"Initialize new tensor of zeroes for RNN hidden state.\n",
    "        \n",
    "        Args:\n",
    "            - batch_size: Int size of batch\n",
    "            \n",
    "        Returns:\n",
    "            Tensor of zeros shaped (num_layers * num_directions, batch, hidden_size).\n",
    "        \"\"\"\n",
    "        num_directions = 2 if self.rnn.bidirectional else 1\n",
    "        \n",
    "        # YOUR CODE HERE\n",
    "        h = torch.zeros(self.rnn.num_layers * num_directions, batch_size, self.rnn.hidden_size)\n",
    "        # END OF YOUR CODE\n",
    "        \n",
    "        return h\n",
    "        \n",
    "    def _reshape_features(self, x):\n",
    "        \"\"\"Change dimensions of x to fit RNN expected input.\n",
    "        \n",
    "        Args:\n",
    "            - x: Tensor x shaped (B x (C=1) x H x W).\n",
    "        \n",
    "        Returns:\n",
    "            New tensor shaped (W x B x H).\n",
    "        \"\"\"\n",
    "        \n",
    "        # YOUR CODE HERE\n",
    "        x = x.squeeze(1)\n",
    "        x = x.permute(2, 0, 1)\n",
    "        # END OF YOUR CODE\n",
    "        \n",
    "        return x\n",
    "    \n",
    "    def forward(self, x):\n",
    "        x = self._reshape_features(x)\n",
    "        \n",
    "        batch_size = x.size(1)\n",
    "        h_0 = self._init_hidden(batch_size)\n",
    "        h_0 = h_0.to(x.device)\n",
    "        x, h = self.rnn(x, h_0)\n",
    "        \n",
    "        x = self.fc(x)\n",
    "        return x"
   ]
  },
  {
   "cell_type": "code",
   "execution_count": 25,
   "id": "adcda60d",
   "metadata": {},
   "outputs": [],
   "source": [
    "class CRNN(Module):\n",
    "    \n",
    "    def __init__(self, alphabet=abc,\n",
    "                 cnn_input_size=(64, 320), cnn_output_len=20,\n",
    "                 rnn_hidden_size=128, rnn_num_layers=2, rnn_dropout=0.3, rnn_bidirectional=False):\n",
    "        super(CRNN, self).__init__()\n",
    "        self.alphabet = alphabet\n",
    "        self.features_extractor = FeatureExtractor(input_size=cnn_input_size, output_len=cnn_output_len)\n",
    "        self.sequence_predictor = SequencePredictor(input_size=self.features_extractor.num_output_features,\n",
    "                                                    hidden_size=rnn_hidden_size, num_layers=rnn_num_layers,\n",
    "                                                    num_classes=len(alphabet)+1, dropout=rnn_dropout,\n",
    "                                                    bidirectional=rnn_bidirectional)\n",
    "    \n",
    "    def forward(self, x):\n",
    "        features = self.features_extractor(x)\n",
    "        sequence = self.sequence_predictor(features)\n",
    "        return sequence"
   ]
  },
  {
   "cell_type": "markdown",
   "id": "dbe163ec",
   "metadata": {},
   "source": [
    "Утилиты декодирования"
   ]
  },
  {
   "cell_type": "code",
   "execution_count": 26,
   "id": "2d99c760",
   "metadata": {},
   "outputs": [],
   "source": [
    "def pred_to_string(pred, abc):\n",
    "    seq = []\n",
    "    for i in range(len(pred)):\n",
    "        label = np.argmax(pred[i])\n",
    "        seq.append(label - 1)\n",
    "    out = []\n",
    "    for i in range(len(seq)):\n",
    "        if len(out) == 0:\n",
    "            if seq[i] != -1:\n",
    "                out.append(seq[i])\n",
    "        else:\n",
    "            if seq[i] != -1 and seq[i] != seq[i - 1]:\n",
    "                out.append(seq[i])\n",
    "    out = ''.join([abc[c] for c in out])\n",
    "    return out\n",
    "\n",
    "def decode(pred, abc):\n",
    "    pred = pred.permute(1, 0, 2).cpu().data.numpy()\n",
    "    outputs = []\n",
    "    for i in range(len(pred)):\n",
    "        outputs.append(pred_to_string(pred[i], abc))\n",
    "    return outputs"
   ]
  },
  {
   "cell_type": "code",
   "execution_count": 27,
   "id": "a8db16c0",
   "metadata": {},
   "outputs": [],
   "source": [
    "crnn = CRNN()"
   ]
  },
  {
   "cell_type": "code",
   "execution_count": 28,
   "id": "f79cc0c6",
   "metadata": {},
   "outputs": [
    {
     "name": "stdout",
     "output_type": "stream",
     "text": [
      "167\n"
     ]
    }
   ],
   "source": [
    "print(len(abc))"
   ]
  },
  {
   "cell_type": "code",
   "execution_count": 29,
   "id": "4c4b4624",
   "metadata": {},
   "outputs": [],
   "source": [
    "x = torch.randn(1, 3, 64, 320)\n",
    "y = crnn(x)\n",
    "assert y.size() == (20, 1, len(abc) + 1)"
   ]
  },
  {
   "cell_type": "code",
   "execution_count": 30,
   "id": "81cdc198",
   "metadata": {},
   "outputs": [
    {
     "data": {
      "text/plain": [
       "torch.Size([20, 1, 168])"
      ]
     },
     "execution_count": 30,
     "metadata": {},
     "output_type": "execute_result"
    }
   ],
   "source": [
    "y.size()"
   ]
  },
  {
   "cell_type": "code",
   "execution_count": 31,
   "id": "f96ac0e2",
   "metadata": {},
   "outputs": [
    {
     "data": {
      "text/plain": [
       "['ЖW(юЯ(Hн}С1xB3ну']"
      ]
     },
     "execution_count": 31,
     "metadata": {},
     "output_type": "execute_result"
    }
   ],
   "source": [
    "decode(y, abc)"
   ]
  },
  {
   "cell_type": "markdown",
   "id": "423b4a2d",
   "metadata": {},
   "source": [
    "Параметры обучения"
   ]
  },
  {
   "cell_type": "code",
   "execution_count": 32,
   "id": "4a774eda",
   "metadata": {},
   "outputs": [],
   "source": [
    "ACTUALLY_TRAIN = True"
   ]
  },
  {
   "cell_type": "code",
   "execution_count": 33,
   "id": "27f1805b",
   "metadata": {},
   "outputs": [],
   "source": [
    "num_epochs = 1\n",
    "batch_size = 32\n",
    "num_workers = 0\n",
    "\n",
    "device = torch.device(\"cuda:0\") if torch.cuda.is_available() else torch.device(\"cpu\")\n",
    "crnn.to(device);\n",
    "optimizer = torch.optim.Adam(crnn.parameters(), lr=3e-4, amsgrad=True, weight_decay=1e-4)"
   ]
  },
  {
   "cell_type": "code",
   "execution_count": 34,
   "id": "e90ad92b",
   "metadata": {},
   "outputs": [],
   "source": [
    "np.random.shuffle(config)\n",
    "train_size = int(len(config) * 0.95)\n",
    "config_train = config[:train_size // 10]\n",
    "config_val = config[train_size:]\n",
    "\n",
    "train_dataset = RecognitionDataset(config_train, transforms=Resize())\n",
    "val_dataset = RecognitionDataset(config_val, transforms=Resize())"
   ]
  },
  {
   "cell_type": "code",
   "execution_count": 35,
   "id": "4138116d",
   "metadata": {},
   "outputs": [],
   "source": [
    "train_dataloader = DataLoader(train_dataset, \n",
    "                              batch_size=batch_size, shuffle=True, num_workers=num_workers, pin_memory=True, \n",
    "                              drop_last=True, collate_fn=collate_fn)\n",
    "val_dataloader = DataLoader(val_dataset, \n",
    "                            batch_size=batch_size, shuffle=False, num_workers=num_workers, pin_memory=True, \n",
    "                            drop_last=False, collate_fn=collate_fn)"
   ]
  },
  {
   "cell_type": "code",
   "execution_count": 36,
   "id": "523dd13d",
   "metadata": {},
   "outputs": [
    {
     "data": {
      "text/plain": [
       "torch.Size([32, 3, 64, 320])"
      ]
     },
     "execution_count": 36,
     "metadata": {},
     "output_type": "execute_result"
    }
   ],
   "source": [
    "x = next(iter(train_dataloader))\n",
    "x['image'].shape"
   ]
  },
  {
   "cell_type": "code",
   "execution_count": 37,
   "id": "da86900d",
   "metadata": {},
   "outputs": [],
   "source": [
    "import pytorch_lightning as pl\n",
    "import torch\n",
    "import Levenshtein as lev\n",
    "from torch.nn.functional import ctc_loss, log_softmax\n",
    "\n",
    "class CRNNModule(pl.LightningModule):\n",
    "    def __init__(self, crnn, learning_rate=1e-3):\n",
    "        super().__init__()\n",
    "        self.crnn = crnn\n",
    "        self.learning_rate = learning_rate\n",
    "        self.alphabet = abc\n",
    "\n",
    "    def forward(self, x):\n",
    "        return self.crnn(x)\n",
    "\n",
    "    def training_step(self, batch, batch_idx):\n",
    "        images = batch[\"image\"]\n",
    "        seqs_gt = batch[\"seq\"]\n",
    "        seq_lens_gt = batch[\"seq_len\"]\n",
    "\n",
    "        seqs_pred = self(images).cpu()\n",
    "        log_probs = log_softmax(seqs_pred, dim=2)\n",
    "        seq_lens_pred = torch.Tensor([seqs_pred.size(0)] * seqs_pred.size(1)).int()\n",
    "        loss = ctc_loss(log_probs=log_probs,\n",
    "                        targets=seqs_gt,\n",
    "                        input_lengths=seq_lens_pred,\n",
    "                        target_lengths=seq_lens_gt,\n",
    "                        zero_infinity=True,)\n",
    "        self.log('train_loss', loss, on_step=True, on_epoch=False, prog_bar=True)\n",
    "        return loss\n",
    "    \n",
    "    def calculate_cer(self, decoded_preds, targets):\n",
    "        # calculate character error rate (CER)\n",
    "        cers = []\n",
    "        for pred, target in zip(decoded_preds, targets):\n",
    "            cer = lev.distance(pred, target)\n",
    "            cers.append(cer)\n",
    "        avg_cer = sum(cers) / len(cers)\n",
    "        return avg_cer\n",
    "\n",
    "    def validation_step(self, batch, batch_idx):\n",
    "        images = batch[\"image\"]\n",
    "        seqs_gt = batch[\"seq\"]\n",
    "        seq_lens_gt = batch[\"seq_len\"]\n",
    "        texts = batch[\"text\"]\n",
    "\n",
    "        with torch.no_grad():\n",
    "            seqs_pred = self(images).cpu()\n",
    "        log_probs = log_softmax(seqs_pred, dim=2)\n",
    "        seq_lens_pred = torch.Tensor([seqs_pred.size(0)] * seqs_pred.size(1)).int()\n",
    "        loss = ctc_loss(log_probs=log_probs,\n",
    "                        targets=seqs_gt,\n",
    "                        input_lengths=seq_lens_pred,\n",
    "                        target_lengths=seq_lens_gt,\n",
    "                        zero_infinity=True)\n",
    "\n",
    "        # decode the predictions to text\n",
    "        decoded_preds = decode(seqs_pred, self.alphabet)\n",
    "        cer = self.calculate_cer(decoded_preds, texts)\n",
    "        \n",
    "        self.log('val_loss', loss, on_step=True, on_epoch=False, prog_bar=True)\n",
    "        self.log('val_cer', cer, on_step=True, on_epoch=True, prog_bar=True)\n",
    "\n",
    "        return loss\n",
    "\n",
    "    def configure_optimizers(self):\n",
    "        return torch.optim.Adam(self.parameters(), lr=self.learning_rate)\n"
   ]
  },
  {
   "cell_type": "code",
   "execution_count": 38,
   "id": "8176d113",
   "metadata": {},
   "outputs": [
    {
     "name": "stderr",
     "output_type": "stream",
     "text": [
      "GPU available: True (cuda), used: True\n",
      "TPU available: False, using: 0 TPU cores\n",
      "IPU available: False, using: 0 IPUs\n",
      "HPU available: False, using: 0 HPUs\n",
      "D:\\anacon\\envs\\new\\Lib\\site-packages\\pytorch_lightning\\trainer\\connectors\\logger_connector\\logger_connector.py:67: UserWarning: Starting from v1.9.0, `tensorboardX` has been removed as a dependency of the `pytorch_lightning` package, due to potential conflicts with other packages in the ML ecosystem. For this reason, `logger=True` will use `CSVLogger` as the default logger, unless the `tensorboard` or `tensorboardX` packages are found. Please `pip install lightning[extra]` or one of them to enable TensorBoard support by default\n",
      "  warning_cache.warn(\n",
      "LOCAL_RANK: 0 - CUDA_VISIBLE_DEVICES: [0]\n",
      "\n",
      "  | Name | Type | Params\n",
      "------------------------------\n",
      "0 | crnn | CRNN | 11.5 M\n",
      "------------------------------\n",
      "11.5 M    Trainable params\n",
      "0         Non-trainable params\n",
      "11.5 M    Total params\n",
      "46.176    Total estimated model params size (MB)\n"
     ]
    },
    {
     "data": {
      "application/vnd.jupyter.widget-view+json": {
       "model_id": "",
       "version_major": 2,
       "version_minor": 0
      },
      "text/plain": [
       "Sanity Checking: 0it [00:00, ?it/s]"
      ]
     },
     "metadata": {},
     "output_type": "display_data"
    },
    {
     "name": "stderr",
     "output_type": "stream",
     "text": [
      "D:\\anacon\\envs\\new\\Lib\\site-packages\\pytorch_lightning\\trainer\\connectors\\data_connector.py:432: PossibleUserWarning: The dataloader, val_dataloader, does not have many workers which may be a bottleneck. Consider increasing the value of the `num_workers` argument` (try 4 which is the number of cpus on this machine) in the `DataLoader` init to improve performance.\n",
      "  rank_zero_warn(\n",
      "D:\\anacon\\envs\\new\\Lib\\site-packages\\pytorch_lightning\\utilities\\data.py:76: UserWarning: Trying to infer the `batch_size` from an ambiguous collection. The batch size we found is 32. To avoid any miscalculations, use `self.log(..., batch_size=batch_size)`.\n",
      "  warning_cache.warn(\n",
      "D:\\anacon\\envs\\new\\Lib\\site-packages\\pytorch_lightning\\trainer\\connectors\\data_connector.py:432: PossibleUserWarning: The dataloader, train_dataloader, does not have many workers which may be a bottleneck. Consider increasing the value of the `num_workers` argument` (try 4 which is the number of cpus on this machine) in the `DataLoader` init to improve performance.\n",
      "  rank_zero_warn(\n"
     ]
    },
    {
     "data": {
      "application/vnd.jupyter.widget-view+json": {
       "model_id": "d2fd4efde2f1461fb76964602bd90377",
       "version_major": 2,
       "version_minor": 0
      },
      "text/plain": [
       "Training: 0it [00:00, ?it/s]"
      ]
     },
     "metadata": {},
     "output_type": "display_data"
    },
    {
     "data": {
      "application/vnd.jupyter.widget-view+json": {
       "model_id": "",
       "version_major": 2,
       "version_minor": 0
      },
      "text/plain": [
       "Validation: 0it [00:00, ?it/s]"
      ]
     },
     "metadata": {},
     "output_type": "display_data"
    },
    {
     "name": "stderr",
     "output_type": "stream",
     "text": [
      "D:\\anacon\\envs\\new\\Lib\\site-packages\\pytorch_lightning\\utilities\\data.py:76: UserWarning: Trying to infer the `batch_size` from an ambiguous collection. The batch size we found is 8. To avoid any miscalculations, use `self.log(..., batch_size=batch_size)`.\n",
      "  warning_cache.warn(\n",
      "`Trainer.fit` stopped: `max_epochs=1` reached.\n"
     ]
    }
   ],
   "source": [
    "# crnn и ctc_loss определяются где-то выше...\n",
    "model = CRNNModule(crnn)\n",
    "\n",
    "trainer = pl.Trainer(max_epochs=num_epochs)\n",
    "trainer.fit(model, train_dataloader, val_dataloader)\n"
   ]
  },
  {
   "cell_type": "code",
   "execution_count": null,
   "id": "2168a50a",
   "metadata": {},
   "outputs": [],
   "source": []
  },
  {
   "cell_type": "code",
   "execution_count": 62,
   "id": "0457b1dc",
   "metadata": {},
   "outputs": [
    {
     "data": {
      "image/png": "[encoded data removed]",
      "text/plain": [
       "<Figure size 1000x500 with 2 Axes>"
      ]
     },
     "metadata": {},
     "output_type": "display_data"
    }
   ],
   "source": [
    "import cv2\n",
    "import matplotlib.pyplot as plt\n",
    "import numpy as np\n",
    "\n",
    "# Загрузка изображения\n",
    "path = r\"/Users/vladislavgadzihanov/Desktop/all_ocr_dataset_classic/Vlad_738.jpg\"\n",
    "\n",
    "def rotate_image(image, angle):\n",
    "    (h, w) = image.shape[:2]\n",
    "    center = (w // 2, h // 2)\n",
    "    M = cv2.getRotationMatrix2D(center, angle, 1.0)\n",
    "\n",
    "    # Получаем новые размеры изображения после поворота\n",
    "    cos = np.abs(M[0, 0])\n",
    "    sin = np.abs(M[0, 1])\n",
    "    nW = int((h * sin) + (w * cos))\n",
    "    nH = int((h * cos) + (w * sin))\n",
    "\n",
    "    # Меняем центр изображения для его поворота\n",
    "    M[0, 2] += (nW / 2) - center[0]\n",
    "    M[1, 2] += (nH / 2) - center[1]\n",
    "\n",
    "    # Вычисляем средний цвет краев изображения\n",
    "    border_color = [np.mean(image[0, :], axis=0), np.mean(image[-1, :], axis=0), \n",
    "                    np.mean(image[:, 0], axis=0), np.mean(image[:, -1], axis=0)]\n",
    "    border_color = np.mean(border_color, axis=0).astype(int)\n",
    "\n",
    "    rotated = cv2.warpAffine(image, M, (nW, nH),\n",
    "                             borderMode=cv2.INTER_LINEAR, \n",
    "                             borderValue=tuple(border_color.tolist())\n",
    "                            )\n",
    "    return rotated\n",
    "\n",
    "# Загрузка изображения\n",
    "img = cv2.imread(path)\n",
    "\n",
    "# Задание угла поворота\n",
    "alpha = 180  # Например, угол поворота 45 градусов\n",
    "\n",
    "# Выполнение операции поворота\n",
    "rotated = rotate_image(img, alpha)\n",
    "\n",
    "# Визуализация\n",
    "fig, axs = plt.subplots(1, 2, figsize=(10, 5))\n",
    "\n",
    "# Отображение исходного изображения\n",
    "axs[0].imshow(cv2.cvtColor(img, cv2.COLOR_BGR2RGB))\n",
    "axs[0].set_title('Source')\n",
    "axs[0].axis('off')\n",
    "\n",
    "# Отображение повернутого изображения\n",
    "axs[1].imshow(cv2.cvtColor(rotated, cv2.COLOR_BGR2RGB))\n",
    "axs[1].set_title('Rotated')\n",
    "axs[1].axis('off')\n",
    "\n",
    "plt.show()"
   ]
  },
  {
   "cell_type": "code",
   "execution_count": null,
   "id": "18f7fb79",
   "metadata": {},
   "outputs": [],
   "source": []
  }
 ],
 "metadata": {
  "kernelspec": {
   "display_name": "Python 3 (ipykernel)",
   "language": "python",
   "name": "python3"
  },
  "language_info": {
   "codemirror_mode": {
    "name": "ipython",
    "version": 3
   },
   "file_extension": ".py",
   "mimetype": "text/x-python",
   "name": "python",
   "nbconvert_exporter": "python",
   "pygments_lexer": "ipython3",
   "version": "3.10.9"
  }
 },
 "nbformat": 4,
 "nbformat_minor": 5
}
