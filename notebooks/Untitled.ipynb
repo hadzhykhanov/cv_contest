{
 "cells": [
  {
   "cell_type": "code",
   "execution_count": 96,
   "id": "d341cad7",
   "metadata": {},
   "outputs": [
    {
     "data": {
      "text/html": [
       "<div>\n",
       "<style scoped>\n",
       "    .dataframe tbody tr th:only-of-type {\n",
       "        vertical-align: middle;\n",
       "    }\n",
       "\n",
       "    .dataframe tbody tr th {\n",
       "        vertical-align: top;\n",
       "    }\n",
       "\n",
       "    .dataframe thead th {\n",
       "        text-align: right;\n",
       "    }\n",
       "</style>\n",
       "<table border=\"1\" class=\"dataframe\">\n",
       "  <thead>\n",
       "    <tr style=\"text-align: right;\">\n",
       "      <th></th>\n",
       "      <th>Id</th>\n",
       "      <th>Expected</th>\n",
       "    </tr>\n",
       "  </thead>\n",
       "  <tbody>\n",
       "    <tr>\n",
       "      <th>0</th>\n",
       "      <td>1.jpg</td>\n",
       "      <td>Атырау</td>\n",
       "    </tr>\n",
       "    <tr>\n",
       "      <th>1</th>\n",
       "      <td>2.jpg</td>\n",
       "      <td>транз</td>\n",
       "    </tr>\n",
       "    <tr>\n",
       "      <th>2</th>\n",
       "      <td>3.jpg</td>\n",
       "      <td>ходят</td>\n",
       "    </tr>\n",
       "    <tr>\n",
       "      <th>3</th>\n",
       "      <td>4.jpg</td>\n",
       "      <td>ощущений,</td>\n",
       "    </tr>\n",
       "    <tr>\n",
       "      <th>4</th>\n",
       "      <td>5.jpg</td>\n",
       "      <td>74</td>\n",
       "    </tr>\n",
       "  </tbody>\n",
       "</table>\n",
       "</div>"
      ],
      "text/plain": [
       "      Id   Expected\n",
       "0  1.jpg     Атырау\n",
       "1  2.jpg      транз\n",
       "2  3.jpg      ходят\n",
       "3  4.jpg  ощущений,\n",
       "4  5.jpg         74"
      ]
     },
     "execution_count": 96,
     "metadata": {},
     "output_type": "execute_result"
    }
   ],
   "source": [
    "import pandas as pd\n",
    "import pathlib\n",
    "from sklearn.preprocessing import LabelEncoder\n",
    "from collections import Counter\n",
    "from matplotlib import pyplot as plt\n",
    "from PIL import Image\n",
    "\n",
    "\n",
    "df = pd.read_csv(\"/Users/vladislavgadzihanov/PycharmProjects/cv_contest/data/vk_made_ocr/train_labels_no_nan.csv\")\n",
    "\n",
    "df.head()"
   ]
  },
  {
   "cell_type": "code",
   "execution_count": 124,
   "id": "388fdf71",
   "metadata": {},
   "outputs": [
    {
     "data": {
      "text/html": [
       "<div>\n",
       "<style scoped>\n",
       "    .dataframe tbody tr th:only-of-type {\n",
       "        vertical-align: middle;\n",
       "    }\n",
       "\n",
       "    .dataframe tbody tr th {\n",
       "        vertical-align: top;\n",
       "    }\n",
       "\n",
       "    .dataframe thead th {\n",
       "        text-align: right;\n",
       "    }\n",
       "</style>\n",
       "<table border=\"1\" class=\"dataframe\">\n",
       "  <thead>\n",
       "    <tr style=\"text-align: right;\">\n",
       "      <th></th>\n",
       "      <th>Id</th>\n",
       "      <th>Expected</th>\n",
       "    </tr>\n",
       "  </thead>\n",
       "  <tbody>\n",
       "    <tr>\n",
       "      <th>120066</th>\n",
       "      <td>120471.jpg</td>\n",
       "      <td>Proctor</td>\n",
       "    </tr>\n",
       "  </tbody>\n",
       "</table>\n",
       "</div>"
      ],
      "text/plain": [
       "                Id Expected\n",
       "120066  120471.jpg  Proctor"
      ]
     },
     "execution_count": 124,
     "metadata": {},
     "output_type": "execute_result"
    }
   ],
   "source": [
    "df[df.Id == \"120471.jpg\"]"
   ]
  },
  {
   "cell_type": "code",
   "execution_count": 91,
   "id": "aa671ba4",
   "metadata": {},
   "outputs": [],
   "source": [
    "path = \"/Users/vladislavgadzihanov/PycharmProjects/cv_contest/data/vk_made_ocr/test/test\"\n",
    "\n",
    "lst = []\n",
    "for item in pathlib.Path(path).glob(\"*jpg\"):\n",
    "    img_arr = np.array(Image.open(item))\n",
    "    lst.append(img_arr.shape)"
   ]
  },
  {
   "cell_type": "code",
   "execution_count": 92,
   "id": "beac7fa6",
   "metadata": {},
   "outputs": [
    {
     "data": {
      "text/plain": [
       "16.70031510028491"
      ]
     },
     "execution_count": 92,
     "metadata": {},
     "output_type": "execute_result"
    }
   ],
   "source": [
    "updated_lst = list(filter(lambda x: x[0] > x[1], lst))\n",
    "(len(updated_lst) / len(lst)) * 100"
   ]
  },
  {
   "cell_type": "code",
   "execution_count": 93,
   "id": "90af84d9",
   "metadata": {},
   "outputs": [
    {
     "data": {
      "text/plain": [
       "(8851, 44148)"
      ]
     },
     "execution_count": 93,
     "metadata": {},
     "output_type": "execute_result"
    }
   ],
   "source": [
    "len(list(filter(lambda x: x[0] > x[1], lst))), len(list(filter(lambda x: x[0] <= x[1], lst)))"
   ]
  },
  {
   "cell_type": "code",
   "execution_count": 37,
   "id": "1e2da58d",
   "metadata": {},
   "outputs": [],
   "source": [
    "path = \"/Users/vladislavgadzihanov/PycharmProjects/cv_contest/data/vk_made_ocr/train/train\"\n",
    "path = pathlib.Path(path)\n",
    "    \n",
    "    \n",
    "all_train = [i for i in path.glob(\"*jpg\")]\n",
    "sizes = []\n",
    "\n",
    "for i in all_train:\n",
    "    sizes.append(np.array(Image.open(i)).shape)"
   ]
  },
  {
   "cell_type": "code",
   "execution_count": 42,
   "id": "afb2b1a8",
   "metadata": {},
   "outputs": [
    {
     "data": {
      "image/png": "[encoded data removed]",
      "text/plain": [
       "<Figure size 640x480 with 1 Axes>"
      ]
     },
     "metadata": {},
     "output_type": "display_data"
    }
   ],
   "source": [
    "plt.hist([i[0] for i in sizes], bins=50);"
   ]
  },
  {
   "cell_type": "code",
   "execution_count": 64,
   "id": "6a531f25",
   "metadata": {},
   "outputs": [
    {
     "data": {
      "text/plain": [
       "[(PosixPath('/Users/vladislavgadzihanov/PycharmProjects/cv_contest/data/vk_made_ocr/train/train/235385.jpg'),\n",
       "  (1083, 78, 3)),\n",
       " (PosixPath('/Users/vladislavgadzihanov/PycharmProjects/cv_contest/data/vk_made_ocr/train/train/106244.jpg'),\n",
       "  (1079, 1304, 3)),\n",
       " (PosixPath('/Users/vladislavgadzihanov/PycharmProjects/cv_contest/data/vk_made_ocr/train/train/10518.jpg'),\n",
       "  (1132, 167, 3)),\n",
       " (PosixPath('/Users/vladislavgadzihanov/PycharmProjects/cv_contest/data/vk_made_ocr/train/train/242052.jpg'),\n",
       "  (1827, 139, 3)),\n",
       " (PosixPath('/Users/vladislavgadzihanov/PycharmProjects/cv_contest/data/vk_made_ocr/train/train/2499.jpg'),\n",
       "  (1678, 2446, 3)),\n",
       " (PosixPath('/Users/vladislavgadzihanov/PycharmProjects/cv_contest/data/vk_made_ocr/train/train/157544.jpg'),\n",
       "  (1558, 2294, 3)),\n",
       " (PosixPath('/Users/vladislavgadzihanov/PycharmProjects/cv_contest/data/vk_made_ocr/train/train/14343.jpg'),\n",
       "  (1114, 198, 3)),\n",
       " (PosixPath('/Users/vladislavgadzihanov/PycharmProjects/cv_contest/data/vk_made_ocr/train/train/217645.jpg'),\n",
       "  (1304, 1322, 3)),\n",
       " (PosixPath('/Users/vladislavgadzihanov/PycharmProjects/cv_contest/data/vk_made_ocr/train/train/20795.jpg'),\n",
       "  (1204, 1212, 3)),\n",
       " (PosixPath('/Users/vladislavgadzihanov/PycharmProjects/cv_contest/data/vk_made_ocr/train/train/213393.jpg'),\n",
       "  (1339, 121, 3)),\n",
       " (PosixPath('/Users/vladislavgadzihanov/PycharmProjects/cv_contest/data/vk_made_ocr/train/train/58348.jpg'),\n",
       "  (1269, 85, 3)),\n",
       " (PosixPath('/Users/vladislavgadzihanov/PycharmProjects/cv_contest/data/vk_made_ocr/train/train/180227.jpg'),\n",
       "  (1215, 2040, 3)),\n",
       " (PosixPath('/Users/vladislavgadzihanov/PycharmProjects/cv_contest/data/vk_made_ocr/train/train/173436.jpg'),\n",
       "  (1007, 1197, 3)),\n",
       " (PosixPath('/Users/vladislavgadzihanov/PycharmProjects/cv_contest/data/vk_made_ocr/train/train/123604.jpg'),\n",
       "  (1047, 63, 3)),\n",
       " (PosixPath('/Users/vladislavgadzihanov/PycharmProjects/cv_contest/data/vk_made_ocr/train/train/270019.jpg'),\n",
       "  (1398, 1825, 3)),\n",
       " (PosixPath('/Users/vladislavgadzihanov/PycharmProjects/cv_contest/data/vk_made_ocr/train/train/42835.jpg'),\n",
       "  (1269, 139, 3)),\n",
       " (PosixPath('/Users/vladislavgadzihanov/PycharmProjects/cv_contest/data/vk_made_ocr/train/train/261826.jpg'),\n",
       "  (1047, 61, 3)),\n",
       " (PosixPath('/Users/vladislavgadzihanov/PycharmProjects/cv_contest/data/vk_made_ocr/train/train/256326.jpg'),\n",
       "  (1214, 545, 3)),\n",
       " (PosixPath('/Users/vladislavgadzihanov/PycharmProjects/cv_contest/data/vk_made_ocr/train/train/66038.jpg'),\n",
       "  (1133, 151, 3)),\n",
       " (PosixPath('/Users/vladislavgadzihanov/PycharmProjects/cv_contest/data/vk_made_ocr/train/train/195927.jpg'),\n",
       "  (1214, 145, 3)),\n",
       " (PosixPath('/Users/vladislavgadzihanov/PycharmProjects/cv_contest/data/vk_made_ocr/train/train/245162.jpg'),\n",
       "  (1209, 106, 3)),\n",
       " (PosixPath('/Users/vladislavgadzihanov/PycharmProjects/cv_contest/data/vk_made_ocr/train/train/40773.jpg'),\n",
       "  (1063, 1685, 3)),\n",
       " (PosixPath('/Users/vladislavgadzihanov/PycharmProjects/cv_contest/data/vk_made_ocr/train/train/212341.jpg'),\n",
       "  (1814, 291, 3)),\n",
       " (PosixPath('/Users/vladislavgadzihanov/PycharmProjects/cv_contest/data/vk_made_ocr/train/train/177986.jpg'),\n",
       "  (1524, 224, 3)),\n",
       " (PosixPath('/Users/vladislavgadzihanov/PycharmProjects/cv_contest/data/vk_made_ocr/train/train/191581.jpg'),\n",
       "  (1665, 148, 3)),\n",
       " (PosixPath('/Users/vladislavgadzihanov/PycharmProjects/cv_contest/data/vk_made_ocr/train/train/14249.jpg'),\n",
       "  (1017, 1720, 3)),\n",
       " (PosixPath('/Users/vladislavgadzihanov/PycharmProjects/cv_contest/data/vk_made_ocr/train/train/214285.jpg'),\n",
       "  (1047, 72, 3)),\n",
       " (PosixPath('/Users/vladislavgadzihanov/PycharmProjects/cv_contest/data/vk_made_ocr/train/train/249424.jpg'),\n",
       "  (1045, 1664, 3)),\n",
       " (PosixPath('/Users/vladislavgadzihanov/PycharmProjects/cv_contest/data/vk_made_ocr/train/train/111542.jpg'),\n",
       "  (1074, 346, 3)),\n",
       " (PosixPath('/Users/vladislavgadzihanov/PycharmProjects/cv_contest/data/vk_made_ocr/train/train/119487.jpg'),\n",
       "  (1328, 2508, 3)),\n",
       " (PosixPath('/Users/vladislavgadzihanov/PycharmProjects/cv_contest/data/vk_made_ocr/train/train/37518.jpg'),\n",
       "  (1058, 161, 3)),\n",
       " (PosixPath('/Users/vladislavgadzihanov/PycharmProjects/cv_contest/data/vk_made_ocr/train/train/59714.jpg'),\n",
       "  (1009, 1287, 3)),\n",
       " (PosixPath('/Users/vladislavgadzihanov/PycharmProjects/cv_contest/data/vk_made_ocr/train/train/170480.jpg'),\n",
       "  (1108, 2259, 3)),\n",
       " (PosixPath('/Users/vladislavgadzihanov/PycharmProjects/cv_contest/data/vk_made_ocr/train/train/115581.jpg'),\n",
       "  (1273, 122, 3)),\n",
       " (PosixPath('/Users/vladislavgadzihanov/PycharmProjects/cv_contest/data/vk_made_ocr/train/train/246015.jpg'),\n",
       "  (1340, 2286, 3)),\n",
       " (PosixPath('/Users/vladislavgadzihanov/PycharmProjects/cv_contest/data/vk_made_ocr/train/train/204838.jpg'),\n",
       "  (1080, 566, 3)),\n",
       " (PosixPath('/Users/vladislavgadzihanov/PycharmProjects/cv_contest/data/vk_made_ocr/train/train/53212.jpg'),\n",
       "  (1020, 178, 3)),\n",
       " (PosixPath('/Users/vladislavgadzihanov/PycharmProjects/cv_contest/data/vk_made_ocr/train/train/116504.jpg'),\n",
       "  (1180, 237, 3)),\n",
       " (PosixPath('/Users/vladislavgadzihanov/PycharmProjects/cv_contest/data/vk_made_ocr/train/train/108672.jpg'),\n",
       "  (1077, 101, 3)),\n",
       " (PosixPath('/Users/vladislavgadzihanov/PycharmProjects/cv_contest/data/vk_made_ocr/train/train/111120.jpg'),\n",
       "  (1021, 754, 3)),\n",
       " (PosixPath('/Users/vladislavgadzihanov/PycharmProjects/cv_contest/data/vk_made_ocr/train/train/109186.jpg'),\n",
       "  (1138, 2653, 3)),\n",
       " (PosixPath('/Users/vladislavgadzihanov/PycharmProjects/cv_contest/data/vk_made_ocr/train/train/186648.jpg'),\n",
       "  (1097, 76, 3)),\n",
       " (PosixPath('/Users/vladislavgadzihanov/PycharmProjects/cv_contest/data/vk_made_ocr/train/train/28289.jpg'),\n",
       "  (1030, 1417, 3)),\n",
       " (PosixPath('/Users/vladislavgadzihanov/PycharmProjects/cv_contest/data/vk_made_ocr/train/train/275803.jpg'),\n",
       "  (1018, 2034, 3)),\n",
       " (PosixPath('/Users/vladislavgadzihanov/PycharmProjects/cv_contest/data/vk_made_ocr/train/train/256229.jpg'),\n",
       "  (1287, 1681, 3)),\n",
       " (PosixPath('/Users/vladislavgadzihanov/PycharmProjects/cv_contest/data/vk_made_ocr/train/train/227361.jpg'),\n",
       "  (1336, 1742, 3)),\n",
       " (PosixPath('/Users/vladislavgadzihanov/PycharmProjects/cv_contest/data/vk_made_ocr/train/train/133972.jpg'),\n",
       "  (1142, 1597, 3)),\n",
       " (PosixPath('/Users/vladislavgadzihanov/PycharmProjects/cv_contest/data/vk_made_ocr/train/train/211558.jpg'),\n",
       "  (1283, 183, 3)),\n",
       " (PosixPath('/Users/vladislavgadzihanov/PycharmProjects/cv_contest/data/vk_made_ocr/train/train/60032.jpg'),\n",
       "  (1248, 2076, 3)),\n",
       " (PosixPath('/Users/vladislavgadzihanov/PycharmProjects/cv_contest/data/vk_made_ocr/train/train/263087.jpg'),\n",
       "  (1045, 3857, 3)),\n",
       " (PosixPath('/Users/vladislavgadzihanov/PycharmProjects/cv_contest/data/vk_made_ocr/train/train/34715.jpg'),\n",
       "  (1451, 908, 3))]"
      ]
     },
     "execution_count": 64,
     "metadata": {},
     "output_type": "execute_result"
    }
   ],
   "source": [
    "lst = list(filter(lambda x: x[1][0] > 1000, zip(all_train, sizes)))\n",
    "lst"
   ]
  },
  {
   "cell_type": "code",
   "execution_count": 54,
   "id": "6a5172ad",
   "metadata": {},
   "outputs": [
    {
     "data": {
      "text/plain": [
       "(276000, 34504)"
      ]
     },
     "execution_count": 54,
     "metadata": {},
     "output_type": "execute_result"
    }
   ],
   "source": [
    "len(sizes), len([i[0] for i in sizes if i[0] < 15])"
   ]
  },
  {
   "cell_type": "code",
   "execution_count": 31,
   "id": "ea6f5ae6",
   "metadata": {},
   "outputs": [],
   "source": [
    "lst = []\n",
    "for item in list(df.Expected):\n",
    "    lst.extend(list(item))"
   ]
  },
  {
   "cell_type": "code",
   "execution_count": 32,
   "id": "0f97ef4b",
   "metadata": {},
   "outputs": [
    {
     "data": {
      "text/plain": [
       "[('о', 109450),\n",
       " ('а', 98329),\n",
       " ('е', 87534),\n",
       " ('и', 78190),\n",
       " ('н', 73113),\n",
       " ('т', 64803),\n",
       " ('с', 61057),\n",
       " ('р', 58974),\n",
       " ('л', 48660),\n",
       " ('к', 42526),\n",
       " ('в', 42450),\n",
       " ('м', 33717),\n",
       " ('д', 31609),\n",
       " ('1', 31480),\n",
       " ('0', 30136),\n",
       " (' ', 30108),\n",
       " ('п', 27252),\n",
       " ('у', 26731),\n",
       " ('я', 25197),\n",
       " ('.', 23338),\n",
       " ('ы', 21604),\n",
       " ('2', 21044),\n",
       " ('A', 20767),\n",
       " (',', 20158),\n",
       " ('E', 19781),\n",
       " ('г', 18657),\n",
       " ('з', 17912),\n",
       " ('ь', 17851),\n",
       " ('3', 17449),\n",
       " ('б', 17055),\n",
       " ('8', 16916),\n",
       " ('5', 16580),\n",
       " ('I', 16476),\n",
       " ('e', 16308),\n",
       " ('O', 15825),\n",
       " ('й', 15550),\n",
       " ('9', 15157),\n",
       " ('N', 15043),\n",
       " ('6', 14447),\n",
       " ('А', 14391),\n",
       " ('7', 14205),\n",
       " ('a', 14068),\n",
       " ('О', 13939),\n",
       " ('ч', 13911),\n",
       " ('S', 13695),\n",
       " ('T', 13600),\n",
       " ('4', 13107),\n",
       " ('i', 12923),\n",
       " ('R', 12891),\n",
       " ('-', 12512),\n",
       " ('o', 11941),\n",
       " ('К', 11333),\n",
       " ('n', 11326),\n",
       " ('С', 11284),\n",
       " ('C', 10790),\n",
       " ('L', 10733),\n",
       " ('х', 10507),\n",
       " ('И', 10011),\n",
       " ('ж', 9880),\n",
       " ('Н', 9302),\n",
       " ('r', 9268),\n",
       " ('t', 9169),\n",
       " ('Р', 8875),\n",
       " ('Е', 8785),\n",
       " ('Т', 8366),\n",
       " ('H', 7714),\n",
       " ('ш', 7668),\n",
       " ('В', 7656),\n",
       " ('ю', 7183),\n",
       " ('П', 7182),\n",
       " ('s', 7137),\n",
       " ('U', 7120),\n",
       " ('M', 7094),\n",
       " ('l', 7039),\n",
       " ('G', 6687),\n",
       " ('P', 6622),\n",
       " ('D', 6573),\n",
       " ('М', 6429),\n",
       " ('ц', 6354),\n",
       " ('Л', 6274),\n",
       " ('Д', 5484),\n",
       " ('B', 5275),\n",
       " ('c', 5268),\n",
       " ('u', 5063),\n",
       " ('У', 4813),\n",
       " ('\"', 4660),\n",
       " ('h', 4500),\n",
       " ('F', 4388),\n",
       " ('Г', 4344),\n",
       " ('d', 4204),\n",
       " ('щ', 4148),\n",
       " ('m', 3987),\n",
       " ('Б', 3946),\n",
       " ('Y', 3911),\n",
       " ('ф', 3866),\n",
       " (')', 3521),\n",
       " ('g', 3432),\n",
       " ('Я', 3349),\n",
       " ('З', 3348),\n",
       " ('K', 3272),\n",
       " (':', 3069),\n",
       " ('(', 3000),\n",
       " ('V', 2909),\n",
       " ('W', 2902),\n",
       " ('p', 2877),\n",
       " ('ё', 2604),\n",
       " ('э', 2558),\n",
       " ('Ч', 2407),\n",
       " ('y', 2250),\n",
       " ('Ж', 2174),\n",
       " ('Й', 2097),\n",
       " ('Ы', 2009),\n",
       " ('b', 2000),\n",
       " ('f', 1978),\n",
       " ('Ш', 1899),\n",
       " ('w', 1768),\n",
       " ('X', 1746),\n",
       " ('Ь', 1734),\n",
       " ('Z', 1728),\n",
       " ('k', 1720),\n",
       " ('Ф', 1711),\n",
       " ('J', 1706),\n",
       " ('Х', 1612),\n",
       " ('Ю', 1522),\n",
       " ('v', 1459),\n",
       " ('!', 1316),\n",
       " (';', 1313),\n",
       " ('?', 1268),\n",
       " ('Э', 1226),\n",
       " ('Ц', 1110),\n",
       " ('z', 1014),\n",
       " ('»', 1012),\n",
       " ('%', 1007),\n",
       " ('/', 991),\n",
       " ('«', 983),\n",
       " (\"'\", 961),\n",
       " ('ъ', 950),\n",
       " ('®', 904),\n",
       " ('&', 881),\n",
       " ('’', 841),\n",
       " ('+', 775),\n",
       " ('Щ', 760),\n",
       " ('*', 741),\n",
       " ('$', 682),\n",
       " (']', 670),\n",
       " ('[', 670),\n",
       " ('|', 666),\n",
       " ('#', 624),\n",
       " ('Q', 619),\n",
       " ('№', 598),\n",
       " ('—', 586),\n",
       " ('–', 578),\n",
       " ('@', 552),\n",
       " ('_', 544),\n",
       " ('Ё', 544),\n",
       " ('{', 541),\n",
       " ('x', 539),\n",
       " ('=', 531),\n",
       " ('`', 524),\n",
       " ('>', 514),\n",
       " ('Ъ', 510),\n",
       " ('<', 509),\n",
       " ('}', 490),\n",
       " ('＃', 386),\n",
       " ('：', 368),\n",
       " ('“', 319),\n",
       " ('j', 315),\n",
       " ('‐', 297),\n",
       " ('„', 291),\n",
       " ('і', 288),\n",
       " ('”', 286),\n",
       " ('І', 267),\n",
       " ('·', 251),\n",
       " ('~', 202),\n",
       " ('q', 197),\n",
       " ('…', 111),\n",
       " ('￥', 94),\n",
       " ('€', 74)]"
      ]
     },
     "execution_count": 32,
     "metadata": {},
     "output_type": "execute_result"
    }
   ],
   "source": [
    "Counter(lst).most_common()"
   ]
  },
  {
   "cell_type": "code",
   "execution_count": 12,
   "id": "6d6242ef",
   "metadata": {},
   "outputs": [
    {
     "data": {
      "text/plain": [
       "array([' ', '!', '\"', '#', '$', '%', '&', \"'\", '(', ')', '*', '+', ',',\n",
       "       '-', '.', '/', '0', '1', '2', '3', '4', '5', '6', '7', '8', '9',\n",
       "       ':', ';', '<', '=', '>', '?', '@', 'A', 'B', 'C', 'D', 'E', 'F',\n",
       "       'G', 'H', 'I', 'J', 'K', 'L', 'M', 'N', 'O', 'P', 'Q', 'R', 'S',\n",
       "       'T', 'U', 'V', 'W', 'X', 'Y', 'Z', '[', ']', '_', '`', 'a', 'b',\n",
       "       'c', 'd', 'e', 'f', 'g', 'h', 'i', 'j', 'k', 'l', 'm', 'n', 'o',\n",
       "       'p', 'q', 'r', 's', 't', 'u', 'v', 'w', 'x', 'y', 'z', '{', '|',\n",
       "       '}', '~', '«', '®', '·', '»', 'Ё', 'І', 'А', 'Б', 'В', 'Г', 'Д',\n",
       "       'Е', 'Ж', 'З', 'И', 'Й', 'К', 'Л', 'М', 'Н', 'О', 'П', 'Р', 'С',\n",
       "       'Т', 'У', 'Ф', 'Х', 'Ц', 'Ч', 'Ш', 'Щ', 'Ъ', 'Ы', 'Ь', 'Э', 'Ю',\n",
       "       'Я', 'а', 'б', 'в', 'г', 'д', 'е', 'ж', 'з', 'и', 'й', 'к', 'л',\n",
       "       'м', 'н', 'о', 'п', 'р', 'с', 'т', 'у', 'ф', 'х', 'ц', 'ч', 'ш',\n",
       "       'щ', 'ъ', 'ы', 'ь', 'э', 'ю', 'я', 'ё', 'і', '‐', '–', '—', '’',\n",
       "       '“', '”', '„', '…', '€', '№', '＃', '：', '￥'], dtype='<U1')"
      ]
     },
     "execution_count": 12,
     "metadata": {},
     "output_type": "execute_result"
    }
   ],
   "source": [
    "encoder = LabelEncoder()\n",
    "encoder.fit(lst)\n",
    "encoder.classes_"
   ]
  },
  {
   "cell_type": "code",
   "execution_count": 133,
   "id": "b1979adc",
   "metadata": {},
   "outputs": [
    {
     "data": {
      "image/png": "[encoded data removed]",
      "text/plain": [
       "<PIL.JpegImagePlugin.JpegImageFile image mode=RGB size=43x122>"
      ]
     },
     "execution_count": 133,
     "metadata": {},
     "output_type": "execute_result"
    }
   ],
   "source": [
    "path = \"/Users/vladislavgadzihanov/PycharmProjects/cv_contest/data/vk_made_ocr/train/train\"\n",
    "\n",
    "img = Image.open(path + \"/51.jpg\")\n",
    "\n",
    "img"
   ]
  },
  {
   "cell_type": "code",
   "execution_count": 135,
   "id": "43749166",
   "metadata": {},
   "outputs": [
    {
     "data": {
      "image/png": "[encoded data removed]",
      "text/plain": [
       "<PIL.Image.Image image mode=RGB size=43x122>"
      ]
     },
     "execution_count": 135,
     "metadata": {},
     "output_type": "execute_result"
    }
   ],
   "source": [
    "img.rotate(45)"
   ]
  },
  {
   "cell_type": "code",
   "execution_count": 164,
   "id": "66535693",
   "metadata": {},
   "outputs": [
    {
     "data": {
      "text/plain": [
       "6729"
      ]
     },
     "execution_count": 164,
     "metadata": {},
     "output_type": "execute_result"
    }
   ],
   "source": [
    "path = \"/Users/vladislavgadzihanov/Desktop/all_ocr_dataset\"\n",
    "\n",
    "len(list(pathlib.Path(path).glob(\"*\")))"
   ]
  },
  {
   "cell_type": "code",
   "execution_count": 187,
   "id": "44627645",
   "metadata": {},
   "outputs": [],
   "source": [
    "import random\n",
    "import shutil\n",
    "import os\n",
    "\n",
    "# Путь к папке с изображениями\n",
    "folder_path = '/Users/vladislavgadzihanov/all_ocr_dataset'\n",
    "\n",
    "# Получаем список файлов в папке\n",
    "file_list = os.listdir(folder_path)\n",
    "\n",
    "# Перебираем каждый файл в папке\n",
    "for file_name in file_list:\n",
    "    # Полный путь к файлу\n",
    "    file_path = os.path.join(folder_path, file_name)\n",
    "\n",
    "    # Получаем расширение файла\n",
    "    file_ext = os.path.splitext(file_name)[1]\n",
    "\n",
    "    # Создаем копии файла с разными префиксами\n",
    "    for prefix in ['_0', '_90', '_180', '_270']:\n",
    "        # Генерируем новое имя файла с префиксом и расширением\n",
    "        new_file_name = os.path.splitext(file_name)[0] + prefix + file_ext\n",
    "        new_file_path = os.path.join(folder_path, new_file_name)\n",
    "        \n",
    "        # Копируем файл с новым именем\n",
    "        shutil.copy2(file_path, new_file_path)\n",
    "\n",
    "    # Удаляем исходный файл\n",
    "    os.remove(file_path)"
   ]
  },
  {
   "cell_type": "code",
   "execution_count": 192,
   "id": "67ed18a6",
   "metadata": {},
   "outputs": [
    {
     "ename": "ModuleNotFoundError",
     "evalue": "No module named 'efficientnet_pytorch'",
     "output_type": "error",
     "traceback": [
      "\u001b[0;31m---------------------------------------------------------------------------\u001b[0m",
      "\u001b[0;31mModuleNotFoundError\u001b[0m                       Traceback (most recent call last)",
      "Cell \u001b[0;32mIn[192], line 2\u001b[0m\n\u001b[1;32m      1\u001b[0m \u001b[38;5;28;01mfrom\u001b[39;00m \u001b[38;5;21;01mtorchvision\u001b[39;00m \u001b[38;5;28;01mimport\u001b[39;00m models\n\u001b[0;32m----> 2\u001b[0m \u001b[38;5;28;01mfrom\u001b[39;00m \u001b[38;5;21;01mefficientnet_pytorch\u001b[39;00m \u001b[38;5;28;01mimport\u001b[39;00m EfficientNet\n\u001b[1;32m      4\u001b[0m model \u001b[38;5;241m=\u001b[39m models\u001b[38;5;241m.\u001b[39mefficientnet_b4(pretrained\u001b[38;5;241m=\u001b[39m\u001b[38;5;28;01mTrue\u001b[39;00m)\n\u001b[1;32m      6\u001b[0m model\u001b[38;5;241m.\u001b[39m_fc\n",
      "\u001b[0;31mModuleNotFoundError\u001b[0m: No module named 'efficientnet_pytorch'"
     ]
    }
   ],
   "source": [
    "from torchvision import models\n",
    "from efficientnet_pytorch import EfficientNet\n",
    "\n",
    "model = models.efficientnet_b4(pretrained=True)\n",
    "\n",
    "model._fc"
   ]
  },
  {
   "cell_type": "code",
   "execution_count": null,
   "id": "1354ce94",
   "metadata": {},
   "outputs": [],
   "source": []
  }
 ],
 "metadata": {
  "kernelspec": {
   "display_name": "Python 3 (ipykernel)",
   "language": "python",
   "name": "python3"
  },
  "language_info": {
   "codemirror_mode": {
    "name": "ipython",
    "version": 3
   },
   "file_extension": ".py",
   "mimetype": "text/x-python",
   "name": "python",
   "nbconvert_exporter": "python",
   "pygments_lexer": "ipython3",
   "version": "3.10.9"
  }
 },
 "nbformat": 4,
 "nbformat_minor": 5
}
