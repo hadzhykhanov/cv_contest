{
 "cells": [
  {
   "cell_type": "code",
   "execution_count": 104,
   "id": "d341cad7",
   "metadata": {},
   "outputs": [
    {
     "data": {
      "text/html": [
       "<div>\n",
       "<style scoped>\n",
       "    .dataframe tbody tr th:only-of-type {\n",
       "        vertical-align: middle;\n",
       "    }\n",
       "\n",
       "    .dataframe tbody tr th {\n",
       "        vertical-align: top;\n",
       "    }\n",
       "\n",
       "    .dataframe thead th {\n",
       "        text-align: right;\n",
       "    }\n",
       "</style>\n",
       "<table border=\"1\" class=\"dataframe\">\n",
       "  <thead>\n",
       "    <tr style=\"text-align: right;\">\n",
       "      <th></th>\n",
       "      <th>Id</th>\n",
       "      <th>Expected</th>\n",
       "    </tr>\n",
       "  </thead>\n",
       "  <tbody>\n",
       "    <tr>\n",
       "      <th>0</th>\n",
       "      <td>1.jpg</td>\n",
       "      <td>Атырау</td>\n",
       "    </tr>\n",
       "    <tr>\n",
       "      <th>1</th>\n",
       "      <td>2.jpg</td>\n",
       "      <td>транз</td>\n",
       "    </tr>\n",
       "    <tr>\n",
       "      <th>2</th>\n",
       "      <td>3.jpg</td>\n",
       "      <td>ходят</td>\n",
       "    </tr>\n",
       "    <tr>\n",
       "      <th>3</th>\n",
       "      <td>4.jpg</td>\n",
       "      <td>ощущений,</td>\n",
       "    </tr>\n",
       "    <tr>\n",
       "      <th>4</th>\n",
       "      <td>5.jpg</td>\n",
       "      <td>74</td>\n",
       "    </tr>\n",
       "  </tbody>\n",
       "</table>\n",
       "</div>"
      ],
      "text/plain": [
       "      Id   Expected\n",
       "0  1.jpg     Атырау\n",
       "1  2.jpg      транз\n",
       "2  3.jpg      ходят\n",
       "3  4.jpg  ощущений,\n",
       "4  5.jpg         74"
      ]
     },
     "execution_count": 104,
     "metadata": {},
     "output_type": "execute_result"
    }
   ],
   "source": [
    "import pandas as pd\n",
    "\n",
    "df = pd.read_csv(\"/Users/vladislavgadzihanov/PycharmProjects/cv_contest/data/vk_made_ocr/train_labels_no_nan.csv\")\n",
    "\n",
    "df.head()"
   ]
  },
  {
   "cell_type": "code",
   "execution_count": 103,
   "id": "d0571221",
   "metadata": {},
   "outputs": [],
   "source": [
    "df.Expected = df.Expected.apply(lambda x: x.strip())\n",
    "df.iloc[:, 1:].to_csv(\"/Users/vladislavgadzihanov/PycharmProjects/cv_contest/data/vk_made_ocr/train_labels_no_nan.csv\", index=False)"
   ]
  },
  {
   "cell_type": "code",
   "execution_count": 67,
   "id": "ea6f5ae6",
   "metadata": {},
   "outputs": [],
   "source": [
    "lst = []\n",
    "for item in list(df.Expected):\n",
    "    lst.extend(list(item))"
   ]
  },
  {
   "cell_type": "code",
   "execution_count": 74,
   "id": "6d6242ef",
   "metadata": {},
   "outputs": [
    {
     "data": {
      "text/plain": [
       "array([' ', '!', '\"', '#', '$', '%', '&', \"'\", '(', ')', '*', '+', ',',\n",
       "       '-', '.', '/', '0', '1', '2', '3', '4', '5', '6', '7', '8', '9',\n",
       "       ':', ';', '<', '=', '>', '?', '@', 'A', 'B', 'C', 'D', 'E', 'F',\n",
       "       'G', 'H', 'I', 'J', 'K', 'L', 'M', 'N', 'O', 'P', 'Q', 'R', 'S',\n",
       "       'T', 'U', 'V', 'W', 'X', 'Y', 'Z', '[', '\\\\', ']', '_', '`', 'a',\n",
       "       'b', 'c', 'd', 'e', 'f', 'g', 'h', 'i', 'j', 'k', 'l', 'm', 'n',\n",
       "       'o', 'p', 'q', 'r', 's', 't', 'u', 'v', 'w', 'x', 'y', 'z', '{',\n",
       "       '|', '}', '~', '¡', '£', '¤', '¥', '§', '©', 'ª', '«', '\\xad', '®',\n",
       "       '¯', '°', '²', '³', '´', '·', '»', '½', 'Â', 'Æ', 'È', 'É', 'Ë',\n",
       "       'Ô', 'Õ', 'Ö', '×', 'Ù', 'Ü', 'ß', 'à', 'á', 'ã', 'ä', 'æ', 'è',\n",
       "       'é', 'ê', 'ì', 'ô', 'õ', 'ö', 'ü', 'Đ', 'ō', 'Ƨ', 'ɑ', 'ɔ', 'ʌ',\n",
       "       'Α', 'Δ', 'Ε', 'Η', 'Θ', 'Ι', 'Κ', 'Λ', 'Μ', 'Ν', 'Ο', 'Π', 'Ρ',\n",
       "       'Σ', 'Τ', 'Υ', 'Φ', 'Ω', 'ά', 'έ', 'ί', 'α', 'β', 'γ', 'δ', 'ε',\n",
       "       'θ', 'ι', 'κ', 'λ', 'μ', 'ν', 'ξ', 'ο', 'π', 'ρ', 'ς', 'σ', 'τ',\n",
       "       'υ', 'χ', 'ό', 'ύ', 'Ё', 'Є', 'І', 'А', 'Б', 'В', 'Г', 'Д', 'Е',\n",
       "       'Ж', 'З', 'И', 'Й', 'К', 'Л', 'М', 'Н', 'О', 'П', 'Р', 'С', 'Т',\n",
       "       'У', 'Ф', 'Х', 'Ц', 'Ч', 'Ш', 'Щ', 'Ъ', 'Ы', 'Ь', 'Э', 'Ю', 'Я',\n",
       "       'а', 'б', 'в', 'г', 'д', 'е', 'ж', 'з', 'и', 'й', 'к', 'л', 'м',\n",
       "       'н', 'о', 'п', 'р', 'с', 'т', 'у', 'ф', 'х', 'ц', 'ч', 'ш', 'щ',\n",
       "       'ъ', 'ы', 'ь', 'э', 'ю', 'я', 'ё', 'є', 'і', 'ї', 'ў', 'ғ', 'Қ',\n",
       "       'қ', 'Ө', 'ө', 'Ք', 'ա', 'բ', 'ե', 'ի', 'հ', 'յ', 'ն', 'չ', 'ց',\n",
       "       'ք', 'ה', 'ו', 'י', 'כ', 'ל', 'ם', 'מ', 'נ', 'ס', 'ק', '،', 'ا',\n",
       "       'ت', 'ح', 'د', 'س', 'ع', 'ك', 'ل', 'م', 'ن', 'و', 'ي', '٬', 'ی',\n",
       "       'ख', 'ग', 'च', 'थ', 'म', 'र', 'ळ', 'व', 'श', 'ा', 'ु', 'ै', '्',\n",
       "       '।', 'ঃ', 'ก', 'ค', 'ง', 'ท', 'น', 'ป', 'พ', 'ม', 'ย', 'ร', 'ส',\n",
       "       'ห', 'อ', 'า', 'ื', 'ุ', 'เ', 'โ', '็', '์', '᛫', 'ἄ', 'ἰ', 'ὖ',\n",
       "       'ὶ', 'ὼ', 'ᾱ', 'ῆ', 'ῦ', '\\u200c', '‐', '‑', '–', '—', '‘', '’',\n",
       "       '“', '”', '„', '•', '…', '‰', '′', '₩', '€', '℃', '№', '™', 'Ⅱ',\n",
       "       '←', '↑', '→', '↓', '−', '∘', '∣', '∧', '∼', '≠', '≡', '≤', '⊥',\n",
       "       'Ⓡ', '─', '└', '├', '▁', '▪', '▲', '●', '★', '☆', '☎', '♬',\n",
       "       '\\u3000', '、', '。', '》', '【', '】', '〝', 'あ', 'い', 'う', 'お', 'か',\n",
       "       'き', 'く', 'け', 'こ', 'さ', 'し', 'す', 'そ', 'た', 'だ', 'ち', 'つ', 'と',\n",
       "       'に', 'の', 'ば', 'ひ', 'ぶ', 'も', 'や', 'ょ', 'よ', 'ら', 'り', 'る', 'わ',\n",
       "       'ん', 'カ', 'タ', 'ト', 'ム', 'ヨ', 'リ', '・', 'ㄉ', 'ㄞ', '㎡', '三', '上',\n",
       "       '中', '主', '井', '京', '人', '介', '俊', '傳', '光', '兵', '内', '军', '分',\n",
       "       '刻', '前', '劉', '加', '北', '原', '吳', '呂', '和', '哉', '喫', '嗣', '四',\n",
       "       '基', '場', '士', '大', '奶', '好', '始', '姜', '婓', '宗', '定', '将', '尾',\n",
       "       '山', '岡', '州', '府', '張', '彝', '形', '後', '惑', '意', '慧', '所', '文',\n",
       "       '時', '書', '最', '會', '朝', '末', '李', '村', '東', '板', '桓', '森', '楊',\n",
       "       '江', '沙', '法', '津', '洲', '海', '煙', '王', '琬', '田', '甲', '白', '的',\n",
       "       '県', '石', '社', '禕', '秀', '秘', '程', '競', '等', '紹', '維', '级', '者',\n",
       "       '苑', '董', '蔣', '藍', '藪', '蘇', '観', '記', '詮', '貞', '費', '賈', '近',\n",
       "       '迷', '追', '通', '道', '郎', '郭', '都', '鄧', '重', '长', '阪', '音', '頭',\n",
       "       '馬', '駅', '魚', '鰐', '黃', '규', '김', '두', '만', '백', '복', '산', '세',\n",
       "       '승', '용', '원', '천', '택', '훈', '﹣', '！', '＃', '＆', '＇', '（', '）',\n",
       "       '＋', '，', '－', '０', '１', '２', '７', '８', '９', '：', '；', '？', 'Ａ',\n",
       "       'Ｃ', 'Ｅ', 'Ｍ', 'Ｎ', 'Ｏ', 'Ｒ', 'Ｔ', 'Ｖ', 'Ｗ', 'ｈ', 'ｉ', '｜', '￥'],\n",
       "      dtype='<U1')"
      ]
     },
     "execution_count": 74,
     "metadata": {},
     "output_type": "execute_result"
    }
   ],
   "source": [
    "from sklearn.preprocessing import LabelEncoder\n",
    "\n",
    "encoder = LabelEncoder()\n",
    "encoder.fit(lst)\n",
    "encoder.classes_"
   ]
  },
  {
   "cell_type": "code",
   "execution_count": 108,
   "id": "b95cc918",
   "metadata": {},
   "outputs": [
    {
     "name": "stdout",
     "output_type": "stream",
     "text": [
      "tensor([[1, 4, 6],\n",
      "        [2, 5, 0],\n",
      "        [3, 0, 0]])\n"
     ]
    }
   ],
   "source": [
    "import torch\n",
    "from torch.nn.utils.rnn import pad_sequence\n",
    "\n",
    "# Предположим, у вас есть список тензоров таргетов разной длины\n",
    "targets = [torch.tensor([1, 2, 3]), torch.tensor([4, 5]), torch.tensor([6])]\n",
    "\n",
    "# Используем pad_sequence для добавления заполнения\n",
    "padded_targets = pad_sequence(targets, batch_first=False, padding_value=0)\n",
    "\n",
    "print(padded_targets)"
   ]
  },
  {
   "cell_type": "code",
   "execution_count": 109,
   "id": "972045d5",
   "metadata": {},
   "outputs": [
    {
     "name": "stdout",
     "output_type": "stream",
     "text": [
      "tensor([[1, 2, 3],\n",
      "        [4, 5, 0],\n",
      "        [6, 0, 0]])\n"
     ]
    }
   ],
   "source": [
    "import torch\n",
    "from torch.nn.utils.rnn import pad_sequence\n",
    "\n",
    "# Предположим, у вас есть список тензоров таргетов разной длины\n",
    "targets = [torch.tensor([1, 2, 3]), torch.tensor([4, 5]), torch.tensor([6])]\n",
    "\n",
    "# Используем pad_sequence для добавления заполнения\n",
    "padded_targets = pad_sequence(targets, batch_first=True, padding_value=0)\n",
    "\n",
    "print(padded_targets)"
   ]
  }
 ],
 "metadata": {
  "kernelspec": {
   "display_name": "Python 3 (ipykernel)",
   "language": "python",
   "name": "python3"
  },
  "language_info": {
   "codemirror_mode": {
    "name": "ipython",
    "version": 3
   },
   "file_extension": ".py",
   "mimetype": "text/x-python",
   "name": "python",
   "nbconvert_exporter": "python",
   "pygments_lexer": "ipython3",
   "version": "3.10.9"
  }
 },
 "nbformat": 4,
 "nbformat_minor": 5
}
